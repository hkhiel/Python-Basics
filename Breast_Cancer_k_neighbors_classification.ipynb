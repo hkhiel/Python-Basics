{
 "cells": [
  {
   "cell_type": "markdown",
   "metadata": {},
   "source": [
    "# K_Neighbors Classification\n",
    "\n",
    "In this notebook I used k_neighbors classification to perform an automatic diagnosis of Breast Cancer using the Wisconsin Breast Cancer dataset by UCI. You can find the dataset here : https://archive.ics.uci.edu/ml/datasets/Breast+Cancer+Wisconsin+%28Diagnostic%29\n",
    "\n",
    "This is my first k_neighbors model so I decided to keep it simple. I will come back to this over time and develop this model based on what I learned in the meantime.\n"
   ]
  },
  {
   "cell_type": "code",
   "execution_count": 2,
   "metadata": {},
   "outputs": [],
   "source": [
    "import pandas as pd\n",
    "import numpy as np\n",
    "import matplotlib.pyplot as plt\n",
    "import statsmodels.api as sm\n",
    "import math \n",
    "\n",
    "from sklearn.neighbors import KNeighborsClassifier\n",
    "\n",
    "from scipy import stats\n"
   ]
  },
  {
   "cell_type": "code",
   "execution_count": 6,
   "metadata": {},
   "outputs": [
    {
     "data": {
      "text/html": [
       "<div>\n",
       "<style scoped>\n",
       "    .dataframe tbody tr th:only-of-type {\n",
       "        vertical-align: middle;\n",
       "    }\n",
       "\n",
       "    .dataframe tbody tr th {\n",
       "        vertical-align: top;\n",
       "    }\n",
       "\n",
       "    .dataframe thead th {\n",
       "        text-align: right;\n",
       "    }\n",
       "</style>\n",
       "<table border=\"1\" class=\"dataframe\">\n",
       "  <thead>\n",
       "    <tr style=\"text-align: right;\">\n",
       "      <th></th>\n",
       "      <th>Diagnosis</th>\n",
       "      <th>radius</th>\n",
       "      <th>texture</th>\n",
       "      <th>perimeter</th>\n",
       "      <th>area</th>\n",
       "      <th>smoothness</th>\n",
       "      <th>compactness</th>\n",
       "      <th>concavity</th>\n",
       "      <th>concave points</th>\n",
       "      <th>symmetry</th>\n",
       "      <th>fractial dimension</th>\n",
       "    </tr>\n",
       "    <tr>\n",
       "      <th>ID</th>\n",
       "      <th></th>\n",
       "      <th></th>\n",
       "      <th></th>\n",
       "      <th></th>\n",
       "      <th></th>\n",
       "      <th></th>\n",
       "      <th></th>\n",
       "      <th></th>\n",
       "      <th></th>\n",
       "      <th></th>\n",
       "      <th></th>\n",
       "    </tr>\n",
       "  </thead>\n",
       "  <tbody>\n",
       "    <tr>\n",
       "      <th>842302</th>\n",
       "      <td>M</td>\n",
       "      <td>17.99</td>\n",
       "      <td>10.38</td>\n",
       "      <td>122.80</td>\n",
       "      <td>1001.0</td>\n",
       "      <td>0.11840</td>\n",
       "      <td>0.27760</td>\n",
       "      <td>0.3001</td>\n",
       "      <td>0.14710</td>\n",
       "      <td>0.2419</td>\n",
       "      <td>0.07871</td>\n",
       "    </tr>\n",
       "    <tr>\n",
       "      <th>842517</th>\n",
       "      <td>M</td>\n",
       "      <td>20.57</td>\n",
       "      <td>17.77</td>\n",
       "      <td>132.90</td>\n",
       "      <td>1326.0</td>\n",
       "      <td>0.08474</td>\n",
       "      <td>0.07864</td>\n",
       "      <td>0.0869</td>\n",
       "      <td>0.07017</td>\n",
       "      <td>0.1812</td>\n",
       "      <td>0.05667</td>\n",
       "    </tr>\n",
       "    <tr>\n",
       "      <th>84300903</th>\n",
       "      <td>M</td>\n",
       "      <td>19.69</td>\n",
       "      <td>21.25</td>\n",
       "      <td>130.00</td>\n",
       "      <td>1203.0</td>\n",
       "      <td>0.10960</td>\n",
       "      <td>0.15990</td>\n",
       "      <td>0.1974</td>\n",
       "      <td>0.12790</td>\n",
       "      <td>0.2069</td>\n",
       "      <td>0.05999</td>\n",
       "    </tr>\n",
       "    <tr>\n",
       "      <th>84348301</th>\n",
       "      <td>M</td>\n",
       "      <td>11.42</td>\n",
       "      <td>20.38</td>\n",
       "      <td>77.58</td>\n",
       "      <td>386.1</td>\n",
       "      <td>0.14250</td>\n",
       "      <td>0.28390</td>\n",
       "      <td>0.2414</td>\n",
       "      <td>0.10520</td>\n",
       "      <td>0.2597</td>\n",
       "      <td>0.09744</td>\n",
       "    </tr>\n",
       "    <tr>\n",
       "      <th>84358402</th>\n",
       "      <td>M</td>\n",
       "      <td>20.29</td>\n",
       "      <td>14.34</td>\n",
       "      <td>135.10</td>\n",
       "      <td>1297.0</td>\n",
       "      <td>0.10030</td>\n",
       "      <td>0.13280</td>\n",
       "      <td>0.1980</td>\n",
       "      <td>0.10430</td>\n",
       "      <td>0.1809</td>\n",
       "      <td>0.05883</td>\n",
       "    </tr>\n",
       "  </tbody>\n",
       "</table>\n",
       "</div>"
      ],
      "text/plain": [
       "         Diagnosis  radius  texture  perimeter    area  smoothness  \\\n",
       "ID                                                                   \n",
       "842302           M   17.99    10.38     122.80  1001.0     0.11840   \n",
       "842517           M   20.57    17.77     132.90  1326.0     0.08474   \n",
       "84300903         M   19.69    21.25     130.00  1203.0     0.10960   \n",
       "84348301         M   11.42    20.38      77.58   386.1     0.14250   \n",
       "84358402         M   20.29    14.34     135.10  1297.0     0.10030   \n",
       "\n",
       "          compactness  concavity  concave points  symmetry  fractial dimension  \n",
       "ID                                                                              \n",
       "842302        0.27760     0.3001         0.14710    0.2419             0.07871  \n",
       "842517        0.07864     0.0869         0.07017    0.1812             0.05667  \n",
       "84300903      0.15990     0.1974         0.12790    0.2069             0.05999  \n",
       "84348301      0.28390     0.2414         0.10520    0.2597             0.09744  \n",
       "84358402      0.13280     0.1980         0.10430    0.1809             0.05883  "
      ]
     },
     "execution_count": 6,
     "metadata": {},
     "output_type": "execute_result"
    }
   ],
   "source": [
    "# colnames : mean, standard error then the mean of the 3 worst cells of that biopsie.\n",
    "col_names = [\"ID\" , \"Diagnosis\" , \"radius\", \"texture\", \"perimeter\",\"area\", \"smoothness\", \"compactness\", \"concavity\", \"concave points\", \"symmetry\", \"fractial dimension\" , \"radius std\", \"texture std\", \"perimeter std\",\"area std\", \"smoothness std\", \"compactness std\", \"concavity std\", \"concave points std\", \"symmetry std\", \"fractial dimension std\" , \"radius w\", \"texture w\", \"perimeter w\",\"area w\", \"smoothness w\", \"compactness w\", \"concavity w\", \"concave points w\", \"symmetry w\", \"fractial dimension w\" ]\n",
    "# Build DataFrame\n",
    "df = pd.read_csv(\"data_cancer.csv\", header = None, names = col_names , index_col = \"ID\") \n",
    "\n",
    "# I will only work with the Mean of those variables, not the other variables which represented the worst cells and the std. \n",
    "df = df.drop([ \"radius std\", \"texture std\", \"perimeter std\",\"area std\", \"smoothness std\", \"compactness std\", \"concavity std\", \"concave points std\", \"symmetry std\", \"fractial dimension std\" , \"radius w\", \"texture w\", \"perimeter w\",\"area w\", \"smoothness w\", \"compactness w\", \"concavity w\", \"concave points w\", \"symmetry w\", \"fractial dimension w\" ], axis = 1)\n",
    "\n",
    "# Print head() to see the first 5 rows of your data\n",
    "\n",
    "df.head()\n",
    "\n"
   ]
  },
  {
   "cell_type": "markdown",
   "metadata": {},
   "source": [
    "KNN : \"lazy learning\" method. Good for both classification and regression.\n",
    "\n",
    "1. Calculate Euclidean distance : distance between 2 rows => sqrt(sum i to N (row1_i – row2_i)^2)\n",
    "2. Get nearest neighbors\n",
    "3. Make Predictions\n",
    "\n",
    "KNN is really bad with outliers, so you'll have to make sure your data is clean and you get the useful features only. ( Which I did not do for now ) .  \n",
    "\n",
    "\n"
   ]
  },
  {
   "cell_type": "markdown",
   "metadata": {},
   "source": [
    "Training the model : "
   ]
  },
  {
   "cell_type": "code",
   "execution_count": 4,
   "metadata": {},
   "outputs": [
    {
     "name": "stdout",
     "output_type": "stream",
     "text": [
      "Test set predictions: ['B' 'B' 'B' 'M' 'M' 'M' 'M' 'M' 'B' 'B' 'B' 'B' 'M' 'B' 'B' 'B' 'B' 'B'\n",
      " 'B' 'M' 'B' 'B' 'M' 'B' 'B' 'B' 'B' 'M' 'M' 'M' 'M' 'B' 'M' 'B' 'B' 'B'\n",
      " 'M' 'B' 'B' 'B' 'B' 'B' 'B' 'B' 'B' 'M' 'B' 'B' 'B' 'M' 'M' 'M' 'B' 'B'\n",
      " 'B' 'B' 'B' 'M' 'B' 'B' 'B' 'B' 'B' 'B' 'B' 'B' 'B' 'M' 'B' 'B' 'B' 'B'\n",
      " 'B' 'M' 'B' 'M' 'M' 'B' 'B' 'M' 'B' 'M' 'B' 'M' 'B' 'B' 'B' 'B' 'B' 'B'\n",
      " 'B' 'B' 'B' 'B' 'M' 'B' 'B' 'B' 'B' 'B' 'B' 'B' 'B' 'B' 'M' 'B' 'B' 'B'\n",
      " 'M' 'M' 'B' 'B' 'B' 'B']\n"
     ]
    }
   ],
   "source": [
    "# Method : Train Test Split\n",
    "\n",
    "# 1. Import the needed library\n",
    "from sklearn.model_selection import train_test_split\n",
    "\n",
    "# 2. Create your variables. X being all the used features and y being the diagnosis. Benigne ( B ) or Maligne ( M ).\n",
    "X = df.drop(\"Diagnosis\", 1)\n",
    "y = np.array(df[\"Diagnosis\"])\n",
    "\n",
    "# 3. Train, test, split. \n",
    "X_train, X_test, y_train, y_test = train_test_split(X,y, test_size = 0.2, random_state = 1)\n",
    "\n",
    "# 4. Fit the model and choose a n_neighbors. \n",
    "knn = KNeighborsClassifier(n_neighbors = 8)\n",
    "knn.fit(X_train,y_train)\n",
    "\n",
    "# 5. Predict\n",
    "y_pred = knn.predict(X_test)\n",
    "\n",
    "print(\"Test set predictions: {}\".format(y_pred))\n",
    "\n"
   ]
  },
  {
   "cell_type": "code",
   "execution_count": 5,
   "metadata": {},
   "outputs": [
    {
     "name": "stdout",
     "output_type": "stream",
     "text": [
      "0.8771929824561403\n",
      "[[71  1]\n",
      " [13 29]]\n",
      "              precision    recall  f1-score   support\n",
      "\n",
      "           B       0.85      0.99      0.91        72\n",
      "           M       0.97      0.69      0.81        42\n",
      "\n",
      "   micro avg       0.88      0.88      0.88       114\n",
      "   macro avg       0.91      0.84      0.86       114\n",
      "weighted avg       0.89      0.88      0.87       114\n",
      "\n"
     ]
    }
   ],
   "source": [
    "from sklearn.metrics import classification_report, confusion_matrix\n",
    "\n",
    "# 6. Evaluate your model. \n",
    "print(knn.score(X_test, y_test))\n",
    "\n",
    "print(confusion_matrix(y_test, y_pred))\n",
    "\n",
    "print(classification_report(y_test, y_pred))"
   ]
  }
 ],
 "metadata": {
  "kernelspec": {
   "display_name": "Python 3",
   "language": "python",
   "name": "python3"
  },
  "language_info": {
   "codemirror_mode": {
    "name": "ipython",
    "version": 3
   },
   "file_extension": ".py",
   "mimetype": "text/x-python",
   "name": "python",
   "nbconvert_exporter": "python",
   "pygments_lexer": "ipython3",
   "version": "3.7.3"
  }
 },
 "nbformat": 4,
 "nbformat_minor": 2
}
