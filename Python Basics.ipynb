{
 "cells": [
  {
   "cell_type": "markdown",
   "metadata": {},
   "source": [
    "# Python Basics\n",
    "\n",
    "This Notebook explores manipulations which can be performed on the various data structures in Python 3.8 . \n",
    "\n",
    "Adapted from the older datacamp courses into functionnal current code. \n",
    "\n",
    "This Notebook is meant to be updated over time, as my learnings evolve.\n",
    "\n",
    "For now, the notebook goes through the following : \n",
    "\n",
    "List, Tuple, Set, Dictionary\n",
    "List comprehensions\n",
    "Generators"
   ]
  },
  {
   "cell_type": "markdown",
   "metadata": {},
   "source": [
    "List methods"
   ]
  },
  {
   "cell_type": "code",
   "execution_count": 2,
   "metadata": {},
   "outputs": [
    {
     "name": "stdout",
     "output_type": "stream",
     "text": [
      "['apple', 'baby', 'canon', 'direction']\n"
     ]
    }
   ],
   "source": [
    "# Create a list with [] brackets\n",
    "\n",
    "mylist = ['apple', 'baby', 'canon', 'direction']\n",
    "print(mylist)"
   ]
  },
  {
   "cell_type": "code",
   "execution_count": 3,
   "metadata": {},
   "outputs": [
    {
     "name": "stdout",
     "output_type": "stream",
     "text": [
      "['apple', 'baby', 'canon', 'direction', 'elephant']\n"
     ]
    }
   ],
   "source": [
    "# append method to add an element at the end of the list\n",
    "mylist.append('elephant')\n",
    "print(mylist)"
   ]
  },
  {
   "cell_type": "code",
   "execution_count": 4,
   "metadata": {},
   "outputs": [
    {
     "name": "stdout",
     "output_type": "stream",
     "text": [
      "['apple', 'canon', 'direction', 'elephant']\n",
      "['apple', 'canon', 'direction']\n"
     ]
    }
   ],
   "source": [
    "# remove methods\n",
    "\n",
    "# remove the element you choose\n",
    "mylist.remove('baby')\n",
    "print(mylist)\n",
    "\n",
    "#pop : removes the last element of the list. \n",
    "mylist.pop()\n",
    "print(mylist)"
   ]
  },
  {
   "cell_type": "code",
   "execution_count": 5,
   "metadata": {},
   "outputs": [
    {
     "data": {
      "text/plain": [
       "2"
      ]
     },
     "execution_count": 5,
     "metadata": {},
     "output_type": "execute_result"
    }
   ],
   "source": [
    "#  \" add \" does not exist in lists, it's append. \" add\" is for dictionaries\n",
    "# append takes only one element to add.\n",
    "# How to add multiple elements in the list at once ???\n",
    "\n",
    "mylist.append('apple')\n",
    "\n",
    "# .count('x') counts the number of times item x is in a list.\n",
    "mylist.count('apple')\n"
   ]
  },
  {
   "cell_type": "markdown",
   "metadata": {},
   "source": [
    "Tuple Methods : \n",
    "Tuples are not modifiable 'lists'. Written with () brackets.\n",
    "\n",
    "Because they are non modifiable you can't add or remove anything. You are just supposed to create the tuple and the elements are not supposed to change. You can only subject count and index to it.\n",
    "\n",
    "Now, there are python built in methods you can call in : \n",
    "ex Get the length of the tuple with len('thetuple'). With tuples as a PARAMETER. But the tuple cannot CALL the method. \n",
    "all(), ascii(), bool(), enumerate(), filter(), \n",
    "iter(), map(), max(), min(), reversed(), slice(), sorted(), \n",
    "sum(), tuple(), zip() "
   ]
  },
  {
   "cell_type": "code",
   "execution_count": 6,
   "metadata": {},
   "outputs": [
    {
     "name": "stdout",
     "output_type": "stream",
     "text": [
      "('apple', 'baby')\n"
     ]
    }
   ],
   "source": [
    "mytuple = ('apple', 'baby')\n",
    "print(mytuple)"
   ]
  },
  {
   "cell_type": "code",
   "execution_count": 9,
   "metadata": {},
   "outputs": [
    {
     "name": "stdout",
     "output_type": "stream",
     "text": [
      "1\n",
      "1\n",
      "2\n",
      "('apple', 'baby')\n"
     ]
    }
   ],
   "source": [
    "# 2 Methods on Tuples\n",
    "print(mytuple.count('baby'))\n",
    "print(mytuple.index('baby'))\n",
    "\n",
    "\n",
    "# Built in functions with Tuples as Parameters : \n",
    "print(len(mytuple))\n",
    "print(mytuple)\n"
   ]
  },
  {
   "cell_type": "markdown",
   "metadata": {},
   "source": [
    "Sets are an unordered collection with no duplicate items. Are modifiable. {} Brackets. \n",
    "\n",
    "Has an intersection() method. And other built in methods. : remove(), add(), copy(), clear(), difference(),difference_update(), discard(), isdisjoint(), issubset()\n",
    ",issuperset() , pop(), symmetric_difference_update(),\n",
    "update(), any(), all(), ascii(),  bool(), enumerate(), \n",
    "filter(), \n",
    "iter(), map(), max(), min(), sorted(), \n",
    "sum(), set() , zip(), frozenset(), len(). \n",
    "\n"
   ]
  },
  {
   "cell_type": "code",
   "execution_count": 10,
   "metadata": {},
   "outputs": [
    {
     "name": "stdout",
     "output_type": "stream",
     "text": [
      "{'canon', 'baby', 'apple'}\n",
      "{'baby'}\n",
      "{'canon', 'elephant', 'baby', 'drink', 'apple'}\n",
      "{'canon', 'apple'}\n",
      "None\n",
      "{'baby', 'apple'}\n"
     ]
    }
   ],
   "source": [
    "myset = {'apple', 'baby', 'canon'}\n",
    "\n",
    "\n",
    "set2 = {'drink', 'elephant', 'baby'}\n",
    "print(myset)\n",
    "# Gives only the element present in the two sets\n",
    "print(myset.intersection(set2))\n",
    "# Gives all elements of the two sets, eliminating duplicated\n",
    "print(myset.union(set2))\n",
    "# Gives all elements from myset without those of set2. \n",
    "print(myset.difference(set2))\n",
    "\n",
    "print(myset.remove('canon'))\n",
    "print(myset)"
   ]
  },
  {
   "cell_type": "markdown",
   "metadata": {},
   "source": [
    "Dictionary : { 'x' : 1 , 'y' : 2 } with x, y = keys and 1, 2 = values. \n",
    "\n",
    "Word with the meaning of it associated. \n",
    "\n",
    "\n",
    "\"\"\" any(), all(), ascii(),  bool(), enumerate(), \n",
    "filter(),  iter(), map(), max(), min(), sorted(), \n",
    "sum(), set() , zip(), len(), copy(), clear(), \n",
    "fromkeys(), get(), items(), keys(), popitem(), \n",
    "setdefault(),values(),pop(), update(),  \"\"\""
   ]
  },
  {
   "cell_type": "code",
   "execution_count": 11,
   "metadata": {},
   "outputs": [
    {
     "name": "stdout",
     "output_type": "stream",
     "text": [
      "{'apple': 10, 'baby': 20, 'canon': 30}\n"
     ]
    }
   ],
   "source": [
    "mydict = { 'apple' : 10 , 'baby' : 20 , 'canon' : 30}\n",
    "print(mydict)\n",
    "\n"
   ]
  },
  {
   "cell_type": "code",
   "execution_count": 116,
   "metadata": {},
   "outputs": [
    {
     "name": "stdout",
     "output_type": "stream",
     "text": [
      "dict_keys(['apple', 'baby', 'canon'])\n",
      "dict_values([10, 20, 30])\n",
      "dict_items([('apple', 10), ('baby', 20), ('canon', 30)])\n",
      "20\n"
     ]
    }
   ],
   "source": [
    "# Keys, value and items : \n",
    "print(mydict.keys())\n",
    "print(mydict.values())\n",
    "print(mydict.items())\n",
    "\n",
    "# Get gives you the value of your chosen key.\n",
    "print(mydict.get('baby'))"
   ]
  },
  {
   "cell_type": "markdown",
   "metadata": {},
   "source": [
    "# String Manipulation : \n",
    "\n",
    "concatenate(), capitalize, replace(),\n",
    "\n",
    " **join()** =  Join the words back and form a new string      `new_text = \" \".join(word_list)`\n",
    " \n",
    " **split()** ⇒ From a sentences it splits them in words. ex `text.split()`\n",
    "\n",
    "**encrypt()**  : Allows you to do encryptions. Thus, encryption/decryption requires two arguments: text and an integer key denoting the shift (key = 1 for the example above).\n",
    "\n",
    "Decryption : idx = namelist.index(char) - key. It is enough to only subtract since Python allows negative indexing.\n",
    "\n",
    "upper() and lower () : Make every other word uppercased; otherwise - lowercased"
   ]
  },
  {
   "cell_type": "code",
   "execution_count": 1,
   "metadata": {},
   "outputs": [
    {
     "name": "stdout",
     "output_type": "stream",
     "text": [
      "p\n",
      "app\n",
      "apple baby\n",
      "Apple\n",
      "azzle\n",
      "applebaby\n",
      "['apple']\n",
      "APPLE\n"
     ]
    }
   ],
   "source": [
    "# Creation of a string\n",
    "a = 'apple'\n",
    "b = 'baby'\n",
    "ab = [a,b]\n",
    "# Calling the 2 ( third ) character of the string\n",
    "print(a[2])\n",
    "\n",
    "# Calling all characters till the 3rd.\n",
    "print(a[:3])\n",
    "\n",
    "# concatenate\n",
    "print(a + \" \" + b)\n",
    "\n",
    "# Capitalize : Create Capital letters for words. \n",
    "print( a.capitalize())\n",
    "\n",
    "# Replace letter p with z for all the strings\n",
    "print(a.replace('p', 'z'))\n",
    "# Replace 1 letter p with b . How ?\n",
    " # a.replace(, 'b')\n",
    "\n",
    "# From a list of strings, join them to create a word.\n",
    "print( \"\".join(ab))\n",
    "# Splits down a string . ??? . \n",
    "print(a.split())\n",
    "\n",
    "\n",
    "# upper : Create Capital letters for the whole word. \n",
    "print( a.upper())"
   ]
  },
  {
   "cell_type": "markdown",
   "metadata": {},
   "source": [
    "Regular Expressions ( later ) "
   ]
  },
  {
   "cell_type": "code",
   "execution_count": null,
   "metadata": {},
   "outputs": [],
   "source": []
  }
 ],
 "metadata": {
  "kernelspec": {
   "display_name": "Python 3",
   "language": "python",
   "name": "python3"
  },
  "language_info": {
   "codemirror_mode": {
    "name": "ipython",
    "version": 3
   },
   "file_extension": ".py",
   "mimetype": "text/x-python",
   "name": "python",
   "nbconvert_exporter": "python",
   "pygments_lexer": "ipython3",
   "version": "3.7.3"
  }
 },
 "nbformat": 4,
 "nbformat_minor": 2
}
